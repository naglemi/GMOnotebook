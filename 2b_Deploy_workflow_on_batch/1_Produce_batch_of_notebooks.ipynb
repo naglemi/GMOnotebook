{
 "cells": [
  {
   "cell_type": "markdown",
   "id": "33efb2c6",
   "metadata": {},
   "source": [
    "# Prepare Jupyter notebooks for each batch"
   ]
  },
  {
   "cell_type": "markdown",
   "id": "7013ab4a",
   "metadata": {},
   "source": [
    "This workflow is used to run batches of dataset through GMOdetector.\n",
    "\n",
    "We define a single dataset as a set of images that are typically collected on the same day, in the same folder. An experiment may include a batch of data for each of several timepoints.\n",
    "\n",
    "How to perform batch analysis:\n",
    "1. Fill in a spreadsheet in `csv` format just like the example provided in this folder, `1-IN_Batch_parameters.csv`. This should have one column for each dataset. The spreadsheet should be filled out in accordance with the proper criteria and formatting for each path or paramter as described in the [workflow notebook](https://github.com/naglemi/GMOnotebook/blob/master/2a_Deploy_workflow/GMOdetector_template_v0.62.ipynb) and [tutorials on setting parameters](https://github.com/naglemi/GMOnotebook/tree/master/1_Decide_parameters)\n",
    "2. Below, enter the paths to this `csv` and provide a descriptive identifier for the batch.\n",
    "3. Run this notebook, which will create a new notebook for each dataset inside a folder named by your `batch_ID`.\n",
    "4. Run the next notebook, `2_Deploy_batch_of_notebooks.ipynb`, to launch all of the notebooks created here."
   ]
  },
  {
   "cell_type": "code",
   "execution_count": 1,
   "id": "df45002e",
   "metadata": {},
   "outputs": [],
   "source": [
    "library(data.table)"
   ]
  },
  {
   "cell_type": "markdown",
   "id": "f141d0bb",
   "metadata": {},
   "source": [
    "## Load dataframe of batches and parameters"
   ]
  },
  {
   "cell_type": "code",
   "execution_count": 2,
   "id": "4cfdaf9d",
   "metadata": {},
   "outputs": [],
   "source": [
    "df <- fread(\"/mnt/archived_notebooks/1-IN_Batch_parameters_GTNECd5-rgb.csv\", colClasses = 'character')\n",
    "batch_ID <- \"GTNECd5-rgb\" # No spaces"
   ]
  },
  {
   "cell_type": "code",
   "execution_count": 3,
   "id": "db9eea4d",
   "metadata": {},
   "outputs": [],
   "source": [
    "dir_to_save_notebooks <- \"/mnt/archived_notebooks/\""
   ]
  },
  {
   "cell_type": "markdown",
   "id": "06940263",
   "metadata": {},
   "source": [
    "## Initiate files from template"
   ]
  },
  {
   "cell_type": "code",
   "execution_count": 4,
   "id": "5d6044ac",
   "metadata": {},
   "outputs": [],
   "source": [
    "options(stringsAsFactors=FALSE)"
   ]
  },
  {
   "cell_type": "code",
   "execution_count": 5,
   "id": "546121f3",
   "metadata": {},
   "outputs": [],
   "source": [
    "if(!dir.exists(dir_to_save_notebooks)){\n",
    "    dir.create(dir_to_save_notebooks)\n",
    "}"
   ]
  },
  {
   "cell_type": "code",
   "execution_count": 6,
   "id": "0aa64ab2",
   "metadata": {},
   "outputs": [
    {
     "data": {
      "text/html": [
       "<table class=\"dataframe\">\n",
       "<caption>A data.table: 20 × 2</caption>\n",
       "<thead>\n",
       "\t<tr><th scope=col>Parameter</th><th scope=col>Dataset_1</th></tr>\n",
       "\t<tr><th scope=col>&lt;chr&gt;</th><th scope=col>&lt;chr&gt;</th></tr>\n",
       "</thead>\n",
       "<tbody>\n",
       "\t<tr><td>user_note               </td><td>GTNEC_d5_test                                                                                    </td></tr>\n",
       "\t<tr><td>data                    </td><td>/mnt/drives/Elements/Elements_25/GTNEC_GWAS_poplar_transformation_necrotic_test/day5/            </td></tr>\n",
       "\t<tr><td>randomization_datasheet </td><td>/mnt/drives/Elements/Elements_25/GTNEC_GWAS_poplar_transformation_necrotic_test/GTNEC_labels.xlsx</td></tr>\n",
       "\t<tr><td>missing_explant         </td><td>Automatic                                                                                        </td></tr>\n",
       "\t<tr><td>fluorophores            </td><td>(GFP Chl Noise)                                                                                  </td></tr>\n",
       "\t<tr><td>desired_wavelength_range</td><td>(500 900)                                                                                        </td></tr>\n",
       "\t<tr><td>FalseColor_channels     </td><td>(Chl GFP Noise)                                                                                  </td></tr>\n",
       "\t<tr><td>FalseColor_caps         </td><td>(200 400 200)                                                                                    </td></tr>\n",
       "\t<tr><td>reporters               </td><td>(GFP Chl)                                                                                        </td></tr>\n",
       "\t<tr><td>pixel_threshold         </td><td>3                                                                                                </td></tr>\n",
       "\t<tr><td>reporter_threshold      </td><td>38                                                                                               </td></tr>\n",
       "\t<tr><td>grid                    </td><td>12                                                                                               </td></tr>\n",
       "\t<tr><td>composite               </td><td>0                                                                                                </td></tr>\n",
       "\t<tr><td>width                   </td><td>9                                                                                                </td></tr>\n",
       "\t<tr><td>height                  </td><td>5                                                                                                </td></tr>\n",
       "\t<tr><td>parallel                </td><td>1                                                                                                </td></tr>\n",
       "\t<tr><td>segmentation_mode       </td><td>rgb                                                                                              </td></tr>\n",
       "\t<tr><td>segmentation_model_key  </td><td>None                                                                                             </td></tr>\n",
       "\t<tr><td>segmentation_model_path </td><td>None                                                                                             </td></tr>\n",
       "\t<tr><td>segmentation_model_type </td><td>None                                                                                             </td></tr>\n",
       "</tbody>\n",
       "</table>\n"
      ],
      "text/latex": [
       "A data.table: 20 × 2\n",
       "\\begin{tabular}{ll}\n",
       " Parameter & Dataset\\_1\\\\\n",
       " <chr> & <chr>\\\\\n",
       "\\hline\n",
       "\t user\\_note                & GTNEC\\_d5\\_test                                                                                    \\\\\n",
       "\t data                     & /mnt/drives/Elements/Elements\\_25/GTNEC\\_GWAS\\_poplar\\_transformation\\_necrotic\\_test/day5/            \\\\\n",
       "\t randomization\\_datasheet  & /mnt/drives/Elements/Elements\\_25/GTNEC\\_GWAS\\_poplar\\_transformation\\_necrotic\\_test/GTNEC\\_labels.xlsx\\\\\n",
       "\t missing\\_explant          & Automatic                                                                                        \\\\\n",
       "\t fluorophores             & (GFP Chl Noise)                                                                                  \\\\\n",
       "\t desired\\_wavelength\\_range & (500 900)                                                                                        \\\\\n",
       "\t FalseColor\\_channels      & (Chl GFP Noise)                                                                                  \\\\\n",
       "\t FalseColor\\_caps          & (200 400 200)                                                                                    \\\\\n",
       "\t reporters                & (GFP Chl)                                                                                        \\\\\n",
       "\t pixel\\_threshold          & 3                                                                                                \\\\\n",
       "\t reporter\\_threshold       & 38                                                                                               \\\\\n",
       "\t grid                     & 12                                                                                               \\\\\n",
       "\t composite                & 0                                                                                                \\\\\n",
       "\t width                    & 9                                                                                                \\\\\n",
       "\t height                   & 5                                                                                                \\\\\n",
       "\t parallel                 & 1                                                                                                \\\\\n",
       "\t segmentation\\_mode        & rgb                                                                                              \\\\\n",
       "\t segmentation\\_model\\_key   & None                                                                                             \\\\\n",
       "\t segmentation\\_model\\_path  & None                                                                                             \\\\\n",
       "\t segmentation\\_model\\_type  & None                                                                                             \\\\\n",
       "\\end{tabular}\n"
      ],
      "text/markdown": [
       "\n",
       "A data.table: 20 × 2\n",
       "\n",
       "| Parameter &lt;chr&gt; | Dataset_1 &lt;chr&gt; |\n",
       "|---|---|\n",
       "| user_note                | GTNEC_d5_test                                                                                     |\n",
       "| data                     | /mnt/drives/Elements/Elements_25/GTNEC_GWAS_poplar_transformation_necrotic_test/day5/             |\n",
       "| randomization_datasheet  | /mnt/drives/Elements/Elements_25/GTNEC_GWAS_poplar_transformation_necrotic_test/GTNEC_labels.xlsx |\n",
       "| missing_explant          | Automatic                                                                                         |\n",
       "| fluorophores             | (GFP Chl Noise)                                                                                   |\n",
       "| desired_wavelength_range | (500 900)                                                                                         |\n",
       "| FalseColor_channels      | (Chl GFP Noise)                                                                                   |\n",
       "| FalseColor_caps          | (200 400 200)                                                                                     |\n",
       "| reporters                | (GFP Chl)                                                                                         |\n",
       "| pixel_threshold          | 3                                                                                                 |\n",
       "| reporter_threshold       | 38                                                                                                |\n",
       "| grid                     | 12                                                                                                |\n",
       "| composite                | 0                                                                                                 |\n",
       "| width                    | 9                                                                                                 |\n",
       "| height                   | 5                                                                                                 |\n",
       "| parallel                 | 1                                                                                                 |\n",
       "| segmentation_mode        | rgb                                                                                               |\n",
       "| segmentation_model_key   | None                                                                                              |\n",
       "| segmentation_model_path  | None                                                                                              |\n",
       "| segmentation_model_type  | None                                                                                              |\n",
       "\n"
      ],
      "text/plain": [
       "   Parameter               \n",
       "1  user_note               \n",
       "2  data                    \n",
       "3  randomization_datasheet \n",
       "4  missing_explant         \n",
       "5  fluorophores            \n",
       "6  desired_wavelength_range\n",
       "7  FalseColor_channels     \n",
       "8  FalseColor_caps         \n",
       "9  reporters               \n",
       "10 pixel_threshold         \n",
       "11 reporter_threshold      \n",
       "12 grid                    \n",
       "13 composite               \n",
       "14 width                   \n",
       "15 height                  \n",
       "16 parallel                \n",
       "17 segmentation_mode       \n",
       "18 segmentation_model_key  \n",
       "19 segmentation_model_path \n",
       "20 segmentation_model_type \n",
       "   Dataset_1                                                                                        \n",
       "1  GTNEC_d5_test                                                                                    \n",
       "2  /mnt/drives/Elements/Elements_25/GTNEC_GWAS_poplar_transformation_necrotic_test/day5/            \n",
       "3  /mnt/drives/Elements/Elements_25/GTNEC_GWAS_poplar_transformation_necrotic_test/GTNEC_labels.xlsx\n",
       "4  Automatic                                                                                        \n",
       "5  (GFP Chl Noise)                                                                                  \n",
       "6  (500 900)                                                                                        \n",
       "7  (Chl GFP Noise)                                                                                  \n",
       "8  (200 400 200)                                                                                    \n",
       "9  (GFP Chl)                                                                                        \n",
       "10 3                                                                                                \n",
       "11 38                                                                                               \n",
       "12 12                                                                                               \n",
       "13 0                                                                                                \n",
       "14 9                                                                                                \n",
       "15 5                                                                                                \n",
       "16 1                                                                                                \n",
       "17 rgb                                                                                              \n",
       "18 None                                                                                             \n",
       "19 None                                                                                             \n",
       "20 None                                                                                             "
      ]
     },
     "metadata": {},
     "output_type": "display_data"
    }
   ],
   "source": [
    "df"
   ]
  },
  {
   "cell_type": "code",
   "execution_count": 7,
   "id": "65c47199",
   "metadata": {},
   "outputs": [],
   "source": [
    "filenames <- paste0(dir_to_save_notebooks, \"/\",\n",
    "                    batch_ID, \"/\",\n",
    "                    df[1,2:ncol(df)],\n",
    "                    \"_GMOdet-v0.9.ipynb\")"
   ]
  },
  {
   "cell_type": "code",
   "execution_count": 8,
   "id": "b609546c",
   "metadata": {},
   "outputs": [],
   "source": [
    "if(!dir.exists(unique(dirname(filenames)))){\n",
    "    dir.create(unique(dirname(filenames)),\n",
    "               recursive = TRUE)\n",
    "}"
   ]
  },
  {
   "cell_type": "code",
   "execution_count": 9,
   "id": "50502556",
   "metadata": {},
   "outputs": [],
   "source": [
    "for(filename in filenames){\n",
    "    file.copy(\"/home/gmobot/GMOnotebook/2a_Deploy_workflow/GMOdetector_template_v0.9.ipynb\",\n",
    "              filename,\n",
    "              overwrite = TRUE)\n",
    "}"
   ]
  },
  {
   "cell_type": "markdown",
   "id": "e3f38f16",
   "metadata": {},
   "source": [
    "## Replace dummy strings with desired paths/parameters"
   ]
  },
  {
   "cell_type": "markdown",
   "id": "a6211adc",
   "metadata": {},
   "source": [
    "A good way to do this is using `sed` in `bash`, via R's `system` function."
   ]
  },
  {
   "cell_type": "markdown",
   "id": "dbc6f33f",
   "metadata": {},
   "source": [
    "Example `sed` find and replace command:"
   ]
  },
  {
   "cell_type": "raw",
   "id": "8908d923",
   "metadata": {},
   "source": [
    "sed -i -e 's/abc/XYZ/g' /tmp/file.txt"
   ]
  },
  {
   "cell_type": "markdown",
   "id": "f3fb9a8a",
   "metadata": {},
   "source": [
    "To use `system` in R, we simply pass the desired command to `system` as a string."
   ]
  },
  {
   "cell_type": "code",
   "execution_count": 10,
   "id": "8ca8a07a",
   "metadata": {},
   "outputs": [],
   "source": [
    "strings <- data.frame(Parameter = c(\n",
    "    \"user_note\", \"data\", \"randomization_datasheet\",\n",
    "    \"missing_explant\", \"fluorophores\", \"desired_wavelength_range\",\n",
    "    \"FalseColor_channels\", \"FalseColor_caps\", \"reporters\",\n",
    "    \"pixel_threshold\", \"reporter_threshold\", \"grid\",\n",
    "    \"composite\", \"width\", \"height\", \"parallel\",\n",
    "    \"segmentation_mode\", \"segmentation_model_key\", \"segmentation_model_path\",\n",
    "    \"segmentation_model_type\"),\n",
    "                      String_to_Replace = c(\n",
    "                          \"ENTER_NOTE\", \"ENTER_DATA_PATH\",\n",
    "                          \"ENTER_RANDOMIZATION_DATASHEET_PATH\",\n",
    "                          \"ENTER_DENSENET_OPTION_OR_SHEET\", \"ENTER_FLUOROPHORES\",\n",
    "                          \"ENTER_WAVELENGTHS\", \"ENTER_CHANNELS\", \"ENTER_CAPS\",\n",
    "                          \"ENTER_REPORTERS\", \"ENTER_PIXEL_THRESHOLD\",\n",
    "                          \"ENTER_REPORTER_THRESHOLD\", \"ENTER_GRID\",\n",
    "                          \"ENTER_COMPOSITE_OPTION\",\n",
    "                          \"ENTER_PLOT_WIDTH\", \"ENTER_PLOT_HEIGHT\", \"ENTER_PARALLEL_OPTION\",\n",
    "                          \"ENTER_SEGMENTATION_MODE\", \"ENTER_HYP-SEGMENTATION_MODEL_KEY\",\n",
    "                          \"ENTER_HYP-SEGMENTATION_MODEL_PATH\", \"ENTER_HYP-SEGMENTATION_MODEL_TYPE\"\n",
    "                ),\n",
    "                      stringsAsFactors=FALSE\n",
    ")"
   ]
  },
  {
   "cell_type": "code",
   "execution_count": 11,
   "id": "274400fc",
   "metadata": {},
   "outputs": [],
   "source": [
    "merged <- merge(strings, df, all.x=TRUE)"
   ]
  },
  {
   "cell_type": "code",
   "execution_count": 12,
   "id": "848e282e",
   "metadata": {
    "tags": []
   },
   "outputs": [],
   "source": [
    "merged <- as.data.table(merged)  # Convert to data.table if it's not already\n",
    "\n",
    "for(j in 1:length(filenames)){\n",
    "    filename <- filenames[j]\n",
    "    batchs_column_in_merged <- j + 2\n",
    "    #cat(filename, \"\\n\")\n",
    "    for(i in 1:nrow(merged)){\n",
    "        find <- merged[i, 2, with=FALSE]  # using with=FALSE for base R like indexing\n",
    "        replace <- merged[i, batchs_column_in_merged, with=FALSE]\n",
    "        \n",
    "        # Escape characters that might cause issues in sed command\n",
    "        find <- gsub(\"/\", \"\\\\/\", find)\n",
    "        replace <- gsub(\"/\", \"\\\\/\", replace)\n",
    "\n",
    "        command <- paste0(\"sed -i -e 's#\",\n",
    "                          find,\n",
    "                          \"#\",\n",
    "                          replace,\n",
    "                          \"#g' \",\n",
    "                          filename)\n",
    "        #cat(command, \"\\n\")\n",
    "        system(command)\n",
    "        Sys.sleep(0.5)\n",
    "    }\n",
    "}"
   ]
  },
  {
   "cell_type": "code",
   "execution_count": 13,
   "id": "98403bd8",
   "metadata": {},
   "outputs": [
    {
     "name": "stdout",
     "output_type": "stream",
     "text": [
      "[1] \"Finished generating notebooks at: 2023-12-25 14:53:38\"\n"
     ]
    }
   ],
   "source": [
    "print(paste0(\"Finished generating notebooks at: \", Sys.time()))"
   ]
  },
  {
   "cell_type": "code",
   "execution_count": null,
   "id": "333cd36d",
   "metadata": {},
   "outputs": [],
   "source": []
  }
 ],
 "metadata": {
  "kernelspec": {
   "display_name": "R",
   "language": "R",
   "name": "ir"
  },
  "language_info": {
   "codemirror_mode": "r",
   "file_extension": ".r",
   "mimetype": "text/x-r-source",
   "name": "R",
   "pygments_lexer": "r",
   "version": "4.1.3"
  }
 },
 "nbformat": 4,
 "nbformat_minor": 5
}

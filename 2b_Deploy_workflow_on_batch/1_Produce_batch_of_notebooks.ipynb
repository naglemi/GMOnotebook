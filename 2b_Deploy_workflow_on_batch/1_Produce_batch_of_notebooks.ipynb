{
 "cells": [
  {
   "cell_type": "markdown",
   "id": "ff61ed85",
   "metadata": {},
   "source": [
    "# Prepare Jupyter notebooks for each batch"
   ]
  },
  {
   "cell_type": "markdown",
   "id": "b76294d6",
   "metadata": {},
   "source": [
    "This workflow is used to run batches of dataset through GMOdetector.\n",
    "\n",
    "We define a single dataset as a set of images that are typically collected on the same day, in the same folder. An experiment may include a batch of data for each of several timepoints.\n",
    "\n",
    "How to perform batch analysis:\n",
    "1. Fill in a spreadsheet in `csv` format just like the example provided in this folder, `1-IN_Batch_parameters.csv`. This should have one column for each dataset. The spreadsheet should be filled out in accordance with the proper criteria and formatting for each path or paramter as described in the [workflow notebook](https://github.com/naglemi/GMOnotebook/blob/master/2a_Deploy_workflow/GMOdetector_template_v0.62.ipynb) and [tutorials on setting parameters](https://github.com/naglemi/GMOnotebook/tree/master/1_Decide_parameters)\n",
    "2. Below, enter the paths to this `csv` and provide a descriptive identifier for the batch.\n",
    "3. Run this notebook, which will create a new notebook for each dataset inside a folder named by your `batch_ID`.\n",
    "4. Run the next notebook, `2_Deploy_batch_of_notebooks.ipynb`, to launch all of the notebooks created here."
   ]
  },
  {
   "cell_type": "code",
   "execution_count": 1,
   "id": "b4902586",
   "metadata": {},
   "outputs": [],
   "source": [
    "library(data.table)"
   ]
  },
  {
   "cell_type": "markdown",
   "id": "3669905a",
   "metadata": {},
   "source": [
    "## Load dataframe of batches and parameters"
   ]
  },
  {
   "cell_type": "code",
   "execution_count": 2,
   "id": "c0e38733",
   "metadata": {},
   "outputs": [],
   "source": [
    "df <- fread(\"1-IN_Batch_parameters.csv\", colClasses = 'character')\n",
    "batch_ID <- \"GWAS\" # No spaces"
   ]
  },
  {
   "cell_type": "code",
   "execution_count": 1,
   "id": "e3d443d8",
   "metadata": {},
   "outputs": [],
   "source": [
    "dir_to_save_notebooks <- \"/mnt/output/notebooks/\""
   ]
  },
  {
   "cell_type": "markdown",
   "id": "bf89de77",
   "metadata": {},
   "source": [
    "## Initiate files from template"
   ]
  },
  {
   "cell_type": "code",
   "execution_count": 3,
   "id": "fd2f325f",
   "metadata": {},
   "outputs": [],
   "source": [
    "options(stringsAsFactors=FALSE)"
   ]
  },
  {
   "cell_type": "code",
   "execution_count": 4,
   "id": "5c8d05f1",
   "metadata": {},
   "outputs": [],
   "source": [
    "df <- t(df)\n",
    "colnames(df) <- df[1, ]\n",
    "df <- as.data.frame(df[-1, ], stringsAsFactors = FALSE)"
   ]
  },
  {
   "cell_type": "code",
   "execution_count": 3,
   "id": "0b5ef96e",
   "metadata": {},
   "outputs": [
    {
     "name": "stderr",
     "output_type": "stream",
     "text": [
      "Warning message in dir.create(dir_to_save_notebooks):\n",
      "“cannot create dir '/mnt/output/notebooks', reason 'No such file or directory'”\n"
     ]
    }
   ],
   "source": [
    "if(!dir.exists(dir_to_save_notebooks)){\n",
    "    dir.create(dir_to_save_notebooks)\n",
    "}"
   ]
  },
  {
   "cell_type": "code",
   "execution_count": 5,
   "id": "ac6a60ad",
   "metadata": {},
   "outputs": [],
   "source": [
    "filenames <- paste0(dir_to_save_notebooks, \"/\"\n",
    "                    batch_ID, \"/\",\n",
    "                    df$user_note,\n",
    "                    \"_GMOdet-v0.9.ipynb\")"
   ]
  },
  {
   "cell_type": "code",
   "execution_count": 6,
   "id": "cc18faa0",
   "metadata": {},
   "outputs": [],
   "source": [
    "if(!dir.exists(paste0(\"../2b_Deploy_workflow_on_batch/\", batch_ID))){\n",
    "    dir.create(paste0(\"../2b_Deploy_workflow_on_batch/\", batch_ID),\n",
    "               recursive = TRUE)\n",
    "}"
   ]
  },
  {
   "cell_type": "code",
   "execution_count": 7,
   "id": "04c327a3",
   "metadata": {},
   "outputs": [
    {
     "data": {
      "text/html": [
       "<style>\n",
       ".list-inline {list-style: none; margin:0; padding: 0}\n",
       ".list-inline>li {display: inline-block}\n",
       ".list-inline>li:not(:last-child)::after {content: \"\\00b7\"; padding: 0 .5ex}\n",
       "</style>\n",
       "<ol class=list-inline><li>'GSG_PTC_PTD_wk6/PTC_wk6_GMOdetv0.62.ipynb'</li><li>'GSG_PTC_PTD_wk6/PTD_wk6_GMOdetv0.62.ipynb'</li></ol>\n"
      ],
      "text/latex": [
       "\\begin{enumerate*}\n",
       "\\item 'GSG\\_PTC\\_PTD\\_wk6/PTC\\_wk6\\_GMOdetv0.62.ipynb'\n",
       "\\item 'GSG\\_PTC\\_PTD\\_wk6/PTD\\_wk6\\_GMOdetv0.62.ipynb'\n",
       "\\end{enumerate*}\n"
      ],
      "text/markdown": [
       "1. 'GSG_PTC_PTD_wk6/PTC_wk6_GMOdetv0.62.ipynb'\n",
       "2. 'GSG_PTC_PTD_wk6/PTD_wk6_GMOdetv0.62.ipynb'\n",
       "\n",
       "\n"
      ],
      "text/plain": [
       "[1] \"GSG_PTC_PTD_wk6/PTC_wk6_GMOdetv0.62.ipynb\"\n",
       "[2] \"GSG_PTC_PTD_wk6/PTD_wk6_GMOdetv0.62.ipynb\""
      ]
     },
     "metadata": {},
     "output_type": "display_data"
    }
   ],
   "source": [
    "filenames"
   ]
  },
  {
   "cell_type": "code",
   "execution_count": 8,
   "id": "180463f9",
   "metadata": {},
   "outputs": [],
   "source": [
    "for(filename in filenames){\n",
    "    file.copy(\"../2a_Deploy_workflow/GMOdetector_template_v0.9.ipynb\",\n",
    "              filename,\n",
    "              overwrite = TRUE)\n",
    "}"
   ]
  },
  {
   "cell_type": "markdown",
   "id": "997cb5e2",
   "metadata": {},
   "source": [
    "## Replace dummy strings with desired paths/parameters"
   ]
  },
  {
   "cell_type": "markdown",
   "id": "7ab987dd",
   "metadata": {},
   "source": [
    "A good way to do this is using `sed` in `bash`, via R's `system` function."
   ]
  },
  {
   "cell_type": "markdown",
   "id": "4a956e56",
   "metadata": {},
   "source": [
    "Example `sed` find and replace command:"
   ]
  },
  {
   "cell_type": "raw",
   "id": "4c4e8773",
   "metadata": {},
   "source": [
    "sed -i -e 's/abc/XYZ/g' /tmp/file.txt"
   ]
  },
  {
   "cell_type": "markdown",
   "id": "35c18156",
   "metadata": {},
   "source": [
    "To use `system` in R, we simply pass the desired command to `system` as a string."
   ]
  },
  {
   "cell_type": "code",
   "execution_count": 5,
   "id": "4fcb6841",
   "metadata": {},
   "outputs": [],
   "source": [
    "strings <- data.frame(Parameter = c(\n",
    "    \"user_note\", \"data\", \"randomization_datasheet\",\n",
    "    \"missing_explant\", \"fluorophores\", \"desired_wavelength_range\",\n",
    "    \"FalseColor_channels\", \"FalseColor_caps\", \"reporters\",\n",
    "    \"pixel_threshold\", \"reporter_threshold\", \"grid\",\n",
    "    \"composite\", \"width\", \"height\", \"parallel\",\n",
    "    \"segmentation_mode\", \"segmentation_model_key\", \"segmentation_model_path\",\n",
    "    \"segmentation_model_type\"),\n",
    "                      String_to_Replace = c(\n",
    "                          \"ENTER_NOTE\", \"ENTER_DATA_PATH\",\n",
    "                          \"ENTER_RANDOMIZATION_DATASHEET_PATH\",\n",
    "                          \"ENTER_DENSENET_OPTION_OR_SHEET\", \"ENTER_FLUOROPHORES\",\n",
    "                          \"ENTER_WAVELENGTHS\", \"ENTER_CHANNELS\", \"ENTER_CAPS\",\n",
    "                          \"ENTER_REPORTERS\", \"ENTER_PIXEL_THRESHOLD\",\n",
    "                          \"ENTER_REPORTER_THRESHOLD\", \"ENTER_GRID\",\n",
    "                          \"ENTER_COMPOSITE_OPTION\",\n",
    "                          \"ENTER_PLOT_WIDTH\", \"ENTER_PLOT_HEIGHT\", \"ENTER_PARALLEL_OPTION\",\n",
    "                          \"ENTER_SEGMENTATION_MODE\", \"ENTER_HYP-SEGMENTATION_MODEL_KEY\",\n",
    "                          \"ENTER HYP-SEGMENTATION_MODEL_PATH\", \"ENTER_HYP-SEGMENTATION_MODEL_TYPE\"\n",
    "                ),\n",
    "                      stringsAsFactors=FALSE\n",
    ")"
   ]
  },
  {
   "cell_type": "code",
   "execution_count": 6,
   "id": "7242fa2e-8205-4b2c-a535-022317b66726",
   "metadata": {},
   "outputs": [
    {
     "data": {
      "text/html": [
       "<table class=\"dataframe\">\n",
       "<caption>A data.frame: 20 × 2</caption>\n",
       "<thead>\n",
       "\t<tr><th scope=col>Parameter</th><th scope=col>String_to_Replace</th></tr>\n",
       "\t<tr><th scope=col>&lt;chr&gt;</th><th scope=col>&lt;chr&gt;</th></tr>\n",
       "</thead>\n",
       "<tbody>\n",
       "\t<tr><td>user_note               </td><td>ENTER_NOTE                        </td></tr>\n",
       "\t<tr><td>data                    </td><td>ENTER_DATA_PATH                   </td></tr>\n",
       "\t<tr><td>randomization_datasheet </td><td>ENTER_RANDOMIZATION_DATASHEET_PATH</td></tr>\n",
       "\t<tr><td>missing_explant         </td><td>ENTER_DENSENET_OPTION_OR_SHEET    </td></tr>\n",
       "\t<tr><td>fluorophores            </td><td>ENTER_FLUOROPHORES                </td></tr>\n",
       "\t<tr><td>desired_wavelength_range</td><td>ENTER_WAVELENGTHS                 </td></tr>\n",
       "\t<tr><td>FalseColor_channels     </td><td>ENTER_CHANNELS                    </td></tr>\n",
       "\t<tr><td>FalseColor_caps         </td><td>ENTER_CAPS                        </td></tr>\n",
       "\t<tr><td>reporters               </td><td>ENTER_REPORTERS                   </td></tr>\n",
       "\t<tr><td>pixel_threshold         </td><td>ENTER_PIXEL_THRESHOLD             </td></tr>\n",
       "\t<tr><td>reporter_threshold      </td><td>ENTER_REPORTER_THRESHOLD          </td></tr>\n",
       "\t<tr><td>grid                    </td><td>ENTER_GRID                        </td></tr>\n",
       "\t<tr><td>composite               </td><td>ENTER_COMPOSITE_OPTION            </td></tr>\n",
       "\t<tr><td>width                   </td><td>ENTER_PLOT_WIDTH                  </td></tr>\n",
       "\t<tr><td>height                  </td><td>ENTER_PLOT_HEIGHT                 </td></tr>\n",
       "\t<tr><td>parallel                </td><td>ENTER_PARALLEL_OPTION             </td></tr>\n",
       "\t<tr><td>segmentation_mode       </td><td>ENTER_SEGMENTATION_MODE           </td></tr>\n",
       "\t<tr><td>segmentation_model_key  </td><td>ENTER_HYP-SEGMENTATION_MODEL_KEY  </td></tr>\n",
       "\t<tr><td>segmentation_model_path </td><td>ENTER HYP-SEGMENTATION_MODEL_PATH </td></tr>\n",
       "\t<tr><td>segmentation_model_type </td><td>ENTER_HYP-SEGMENTATION_MODEL_TYPE </td></tr>\n",
       "</tbody>\n",
       "</table>\n"
      ],
      "text/latex": [
       "A data.frame: 20 × 2\n",
       "\\begin{tabular}{ll}\n",
       " Parameter & String\\_to\\_Replace\\\\\n",
       " <chr> & <chr>\\\\\n",
       "\\hline\n",
       "\t user\\_note                & ENTER\\_NOTE                        \\\\\n",
       "\t data                     & ENTER\\_DATA\\_PATH                   \\\\\n",
       "\t randomization\\_datasheet  & ENTER\\_RANDOMIZATION\\_DATASHEET\\_PATH\\\\\n",
       "\t missing\\_explant          & ENTER\\_DENSENET\\_OPTION\\_OR\\_SHEET    \\\\\n",
       "\t fluorophores             & ENTER\\_FLUOROPHORES                \\\\\n",
       "\t desired\\_wavelength\\_range & ENTER\\_WAVELENGTHS                 \\\\\n",
       "\t FalseColor\\_channels      & ENTER\\_CHANNELS                    \\\\\n",
       "\t FalseColor\\_caps          & ENTER\\_CAPS                        \\\\\n",
       "\t reporters                & ENTER\\_REPORTERS                   \\\\\n",
       "\t pixel\\_threshold          & ENTER\\_PIXEL\\_THRESHOLD             \\\\\n",
       "\t reporter\\_threshold       & ENTER\\_REPORTER\\_THRESHOLD          \\\\\n",
       "\t grid                     & ENTER\\_GRID                        \\\\\n",
       "\t composite                & ENTER\\_COMPOSITE\\_OPTION            \\\\\n",
       "\t width                    & ENTER\\_PLOT\\_WIDTH                  \\\\\n",
       "\t height                   & ENTER\\_PLOT\\_HEIGHT                 \\\\\n",
       "\t parallel                 & ENTER\\_PARALLEL\\_OPTION             \\\\\n",
       "\t segmentation\\_mode        & ENTER\\_SEGMENTATION\\_MODE           \\\\\n",
       "\t segmentation\\_model\\_key   & ENTER\\_HYP-SEGMENTATION\\_MODEL\\_KEY  \\\\\n",
       "\t segmentation\\_model\\_path  & ENTER HYP-SEGMENTATION\\_MODEL\\_PATH \\\\\n",
       "\t segmentation\\_model\\_type  & ENTER\\_HYP-SEGMENTATION\\_MODEL\\_TYPE \\\\\n",
       "\\end{tabular}\n"
      ],
      "text/markdown": [
       "\n",
       "A data.frame: 20 × 2\n",
       "\n",
       "| Parameter &lt;chr&gt; | String_to_Replace &lt;chr&gt; |\n",
       "|---|---|\n",
       "| user_note                | ENTER_NOTE                         |\n",
       "| data                     | ENTER_DATA_PATH                    |\n",
       "| randomization_datasheet  | ENTER_RANDOMIZATION_DATASHEET_PATH |\n",
       "| missing_explant          | ENTER_DENSENET_OPTION_OR_SHEET     |\n",
       "| fluorophores             | ENTER_FLUOROPHORES                 |\n",
       "| desired_wavelength_range | ENTER_WAVELENGTHS                  |\n",
       "| FalseColor_channels      | ENTER_CHANNELS                     |\n",
       "| FalseColor_caps          | ENTER_CAPS                         |\n",
       "| reporters                | ENTER_REPORTERS                    |\n",
       "| pixel_threshold          | ENTER_PIXEL_THRESHOLD              |\n",
       "| reporter_threshold       | ENTER_REPORTER_THRESHOLD           |\n",
       "| grid                     | ENTER_GRID                         |\n",
       "| composite                | ENTER_COMPOSITE_OPTION             |\n",
       "| width                    | ENTER_PLOT_WIDTH                   |\n",
       "| height                   | ENTER_PLOT_HEIGHT                  |\n",
       "| parallel                 | ENTER_PARALLEL_OPTION              |\n",
       "| segmentation_mode        | ENTER_SEGMENTATION_MODE            |\n",
       "| segmentation_model_key   | ENTER_HYP-SEGMENTATION_MODEL_KEY   |\n",
       "| segmentation_model_path  | ENTER HYP-SEGMENTATION_MODEL_PATH  |\n",
       "| segmentation_model_type  | ENTER_HYP-SEGMENTATION_MODEL_TYPE  |\n",
       "\n"
      ],
      "text/plain": [
       "   Parameter                String_to_Replace                 \n",
       "1  user_note                ENTER_NOTE                        \n",
       "2  data                     ENTER_DATA_PATH                   \n",
       "3  randomization_datasheet  ENTER_RANDOMIZATION_DATASHEET_PATH\n",
       "4  missing_explant          ENTER_DENSENET_OPTION_OR_SHEET    \n",
       "5  fluorophores             ENTER_FLUOROPHORES                \n",
       "6  desired_wavelength_range ENTER_WAVELENGTHS                 \n",
       "7  FalseColor_channels      ENTER_CHANNELS                    \n",
       "8  FalseColor_caps          ENTER_CAPS                        \n",
       "9  reporters                ENTER_REPORTERS                   \n",
       "10 pixel_threshold          ENTER_PIXEL_THRESHOLD             \n",
       "11 reporter_threshold       ENTER_REPORTER_THRESHOLD          \n",
       "12 grid                     ENTER_GRID                        \n",
       "13 composite                ENTER_COMPOSITE_OPTION            \n",
       "14 width                    ENTER_PLOT_WIDTH                  \n",
       "15 height                   ENTER_PLOT_HEIGHT                 \n",
       "16 parallel                 ENTER_PARALLEL_OPTION             \n",
       "17 segmentation_mode        ENTER_SEGMENTATION_MODE           \n",
       "18 segmentation_model_key   ENTER_HYP-SEGMENTATION_MODEL_KEY  \n",
       "19 segmentation_model_path  ENTER HYP-SEGMENTATION_MODEL_PATH \n",
       "20 segmentation_model_type  ENTER_HYP-SEGMENTATION_MODEL_TYPE "
      ]
     },
     "metadata": {},
     "output_type": "display_data"
    }
   ],
   "source": [
    "strings"
   ]
  },
  {
   "cell_type": "code",
   "execution_count": 10,
   "id": "d56a3a8b",
   "metadata": {},
   "outputs": [],
   "source": [
    "t_df <- t(df)"
   ]
  },
  {
   "cell_type": "code",
   "execution_count": 11,
   "id": "e2328c8f",
   "metadata": {},
   "outputs": [],
   "source": [
    "merged <- as.data.table(cbind(strings, t_df))"
   ]
  },
  {
   "cell_type": "code",
   "execution_count": 12,
   "id": "79d3e8c7",
   "metadata": {
    "tags": []
   },
   "outputs": [],
   "source": [
    "for(j in 1:length(filenames)){\n",
    "    filename <- filenames[j]\n",
    "    batchs_column_in_merged <- j + 2\n",
    "    #cat(filename, \"\\n\")\n",
    "    for(i in 1:nrow(merged)){\n",
    "        find <- merged[i, 2]\n",
    "        replace <- merged[i, ..batchs_column_in_merged]\n",
    "        # replace <- gsub(\"/\", \"\\\\/\", replace)\n",
    "        #cat(paste0(\"Replacing \",\n",
    "        #           find, \" with \", replace, \"\\n\"))\n",
    "        \n",
    "        command <- paste0(\"sed -i -e 's#\",\n",
    "                          find,\n",
    "                          \"#\",\n",
    "                          replace,\n",
    "                          \"#g' \",\n",
    "                          filename)\n",
    "        #cat(command, \"\\n\")\n",
    "        system(command)\n",
    "        Sys.sleep(0.5)\n",
    "    }\n",
    "}"
   ]
  },
  {
   "cell_type": "code",
   "execution_count": 13,
   "id": "1cf163ad",
   "metadata": {},
   "outputs": [
    {
     "name": "stdout",
     "output_type": "stream",
     "text": [
      "[1] \"Finished generating notebooks at: 2022-10-11 14:20:32\"\n"
     ]
    }
   ],
   "source": [
    "print(paste0(\"Finished generating notebooks at: \", Sys.time()))"
   ]
  },
  {
   "cell_type": "code",
   "execution_count": null,
   "id": "24b07c3f",
   "metadata": {},
   "outputs": [],
   "source": []
  }
 ],
 "metadata": {
  "kernelspec": {
   "display_name": "R",
   "language": "R",
   "name": "ir"
  },
  "language_info": {
   "codemirror_mode": "r",
   "file_extension": ".r",
   "mimetype": "text/x-r-source",
   "name": "R",
   "pygments_lexer": "r",
   "version": "4.1.3"
  }
 },
 "nbformat": 4,
 "nbformat_minor": 5
}

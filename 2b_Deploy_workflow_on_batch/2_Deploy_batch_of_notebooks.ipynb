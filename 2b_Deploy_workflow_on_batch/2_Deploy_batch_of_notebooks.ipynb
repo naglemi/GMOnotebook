{
 "cells": [
  {
   "cell_type": "markdown",
   "id": "b160c9ca",
   "metadata": {},
   "source": [
    "# Deploy GMOdetector workflow notebooks for a batch of datasets"
   ]
  },
  {
   "cell_type": "markdown",
   "id": "1a9b6dba",
   "metadata": {},
   "source": [
    "To run this notebook and deploy analysis over a batch of datasets, simply enter the same `batch_ID` used in the previous notebook (`1_Produce_batch_of_notebooks.ipynb`) and then run this notebook.\n",
    "\n",
    "This notebook will continue running until all analysis is complete. A progress bar will be shown for each batch.\n",
    "\n",
    "Finally, inside the folder for your batch of datasets (named after your `batch_ID`), you can find the complete notebooks and inspect them for any errors or issues if needed."
   ]
  },
  {
   "cell_type": "markdown",
   "id": "2ea5cd35",
   "metadata": {},
   "source": [
    "Warning: If this script is interrupted, this may lead to a disruption of the kernel or environment that may require Jupyter to be restarted."
   ]
  },
  {
   "cell_type": "code",
   "execution_count": 1,
   "id": "26a1953c",
   "metadata": {},
   "outputs": [],
   "source": [
    "batch_ID = \"FLA_example_batch_4ko\""
   ]
  },
  {
   "cell_type": "code",
   "execution_count": 2,
   "id": "2e8b3b45",
   "metadata": {},
   "outputs": [],
   "source": [
    "import papermill as pm\n",
    "import os\n",
    "import glob\n",
    "import time"
   ]
  },
  {
   "cell_type": "code",
   "execution_count": null,
   "id": "b4733ab0",
   "metadata": {},
   "outputs": [],
   "source": [
    "dir_with_notebooks <- \"/mnt/output/notebooks/\""
   ]
  },
  {
   "cell_type": "code",
   "execution_count": 3,
   "id": "d68e74a4",
   "metadata": {},
   "outputs": [],
   "source": [
    "os.chdir(dir_with_notebooks + \"/\" + batch_ID)"
   ]
  },
  {
   "cell_type": "code",
   "execution_count": 4,
   "id": "2ce7c659",
   "metadata": {},
   "outputs": [],
   "source": [
    "notebooks = glob.glob(\"./*.ipynb\")"
   ]
  },
  {
   "cell_type": "code",
   "execution_count": 5,
   "id": "5233633c",
   "metadata": {},
   "outputs": [],
   "source": [
    "notebooks = [x for x in notebooks if \"out\" not in x]"
   ]
  },
  {
   "cell_type": "code",
   "execution_count": 6,
   "id": "7dea32d8",
   "metadata": {
    "tags": []
   },
   "outputs": [
    {
     "name": "stdout",
     "output_type": "stream",
     "text": [
      "Running notebook ./CRIRD_wk3_GMOdetv0.62.ipynb\n"
     ]
    },
    {
     "data": {
      "application/vnd.jupyter.widget-view+json": {
       "model_id": "35e2215ff7b9474faf49ac7dfffa3772",
       "version_major": 2,
       "version_minor": 0
      },
      "text/plain": [
       "Executing:   0%|          | 0/133 [00:00<?, ?cell/s]"
      ]
     },
     "metadata": {},
     "output_type": "display_data"
    },
    {
     "name": "stdout",
     "output_type": "stream",
     "text": [
      "Ran in 14.827043501536052 minutes\n",
      "Running notebook ./CRIRD_wk10_GMOdetv0.62.ipynb\n"
     ]
    },
    {
     "data": {
      "application/vnd.jupyter.widget-view+json": {
       "model_id": "e60b178b79df4ed7b9947b41cbc43b64",
       "version_major": 2,
       "version_minor": 0
      },
      "text/plain": [
       "Executing:   0%|          | 0/133 [00:00<?, ?cell/s]"
      ]
     },
     "metadata": {},
     "output_type": "display_data"
    },
    {
     "name": "stdout",
     "output_type": "stream",
     "text": [
      "Ran in 15.516569765408834 minutes\n",
      "Running notebook ./CRIRD_wk7_GMOdetv0.62.ipynb\n"
     ]
    },
    {
     "data": {
      "application/vnd.jupyter.widget-view+json": {
       "model_id": "657fe36d5d9340c997bcac35e3d82e91",
       "version_major": 2,
       "version_minor": 0
      },
      "text/plain": [
       "Executing:   0%|          | 0/133 [00:00<?, ?cell/s]"
      ]
     },
     "metadata": {},
     "output_type": "display_data"
    },
    {
     "name": "stdout",
     "output_type": "stream",
     "text": [
      "Ran in 15.341966203848521 minutes\n"
     ]
    }
   ],
   "source": [
    "for notebook in notebooks:\n",
    "    output_filename = notebook.replace(\".ipynb\",\n",
    "                                       \"_out.ipynb\")\n",
    "    \n",
    "    print(\"Running notebook \" + notebook)\n",
    "    \n",
    "    output_exists = False\n",
    "    t0 = time.time()\n",
    "    \n",
    "    try: \n",
    "        pm.execute_notebook(\n",
    "            notebook,\n",
    "            output_filename,\n",
    "            allow_errors=True\n",
    "        )\n",
    "    except: \n",
    "        print(\"Exception...\")\n",
    "    \n",
    "    t1 = time.time()\n",
    "    runtime = (t1-t0)/60\n",
    "    \n",
    "    print(\"Ran in \" + str(runtime) + \" minutes\")\n",
    "    "
   ]
  },
  {
   "cell_type": "code",
   "execution_count": null,
   "id": "b18c7b8e",
   "metadata": {},
   "outputs": [],
   "source": []
  }
 ],
 "metadata": {
  "kernelspec": {
   "display_name": "Python 3 (ipykernel)",
   "language": "python",
   "name": "python3"
  },
  "language_info": {
   "codemirror_mode": {
    "name": "ipython",
    "version": 3
   },
   "file_extension": ".py",
   "mimetype": "text/x-python",
   "name": "python",
   "nbconvert_exporter": "python",
   "pygments_lexer": "ipython3",
   "version": "3.10.12"
  }
 },
 "nbformat": 4,
 "nbformat_minor": 5
}
